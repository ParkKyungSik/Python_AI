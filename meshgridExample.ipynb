{
 "cells": [
  {
   "cell_type": "code",
   "execution_count": 3,
   "metadata": {},
   "outputs": [
    {
     "name": "stdout",
     "output_type": "stream",
     "text": [
      "[0 1 2 3 4]\n",
      "[[0 1 2 3 4]\n",
      " [0 1 2 3 4]\n",
      " [0 1 2 3 4]\n",
      " [0 1 2 3 4]\n",
      " [0 1 2 3 4]]\n",
      "[[0 0 0 0 0]\n",
      " [1 1 1 1 1]\n",
      " [2 2 2 2 2]\n",
      " [3 3 3 3 3]\n",
      " [4 4 4 4 4]]\n"
     ]
    },
    {
     "name": "stderr",
     "output_type": "stream",
     "text": [
      "<ipython-input-3-a26cefb1c43a>:7: RuntimeWarning: invalid value encountered in true_divide\n",
      "  x1 = x1/(x**2 + y **2)\n"
     ]
    },
    {
     "data": {
      "image/png": "[encoded data removed]",
      "text/plain": [
       "<Figure size 432x288 with 1 Axes>"
      ]
     },
     "metadata": {
      "needs_background": "light"
     },
     "output_type": "display_data"
    }
   ],
   "source": [
    "import numpy as np\n",
    "import matplotlib.pyplot as plt\n",
    "%matplotlib inline\n",
    "\n",
    "def f4(x,y):\n",
    "    x1 = np.sin(x**2 + y **2)\n",
    "    x1 = x1/(x**2 + y **2)\n",
    "    return x1\n",
    "\n",
    "x = np.arange(0, 5, 1)\n",
    "y = np.arange(0, 5, 1)\n",
    "\n",
    "print(x)\n",
    "\n",
    "xx, yy = np.meshgrid(x, y)\n",
    "\n",
    "print(xx)\n",
    "print(yy)\n",
    "\n",
    "# z = np.sin(xx**2 + yy**2) / (xx**2 + yy**2)\n",
    "z = f4(xx, yy)\n",
    "h = plt.contourf(x,y,z)"
   ]
  },
  {
   "cell_type": "code",
   "execution_count": 5,
   "metadata": {},
   "outputs": [
    {
     "data": {
      "text/plain": [
       "[<matplotlib.lines.Line2D at 0x2617d191190>,\n",
       " <matplotlib.lines.Line2D at 0x2617d1911c0>,\n",
       " <matplotlib.lines.Line2D at 0x2617d191250>,\n",
       " <matplotlib.lines.Line2D at 0x2617d191340>,\n",
       " <matplotlib.lines.Line2D at 0x2617d191400>]"
      ]
     },
     "execution_count": 5,
     "metadata": {},
     "output_type": "execute_result"
    },
    {
     "data": {
      "image/png": "[encoded data removed]",
      "text/plain": [
       "<Figure size 432x288 with 1 Axes>"
      ]
     },
     "metadata": {
      "needs_background": "light"
     },
     "output_type": "display_data"
    }
   ],
   "source": [
    "import numpy as np\n",
    "import matplotlib.pyplot as plt\n",
    "%matplotlib inline\n",
    "\n",
    "xx= np.array([[0,1,2, 3,4],\n",
    "             [0,1,2, 3,4],\n",
    "             [0,1,2, 3,4],\n",
    "             [0,1,2, 3,4],\n",
    "             [0,1,2, 3,4]])\n",
    "yy= np.array([[0,0,0, 0, 0],\n",
    "             [1,1,1, 1, 1],\n",
    "             [2,2,2, 2, 2],\n",
    "             [3,3,3, 3, 3],\n",
    "             [4,4,4, 4, 4]])\n",
    "\n",
    "plt.plot(xx,yy, marker='.', color='k', linestyle='none')\n"
   ]
  },
  {
   "cell_type": "code",
   "execution_count": 7,
   "metadata": {},
   "outputs": [
    {
     "data": {
      "text/plain": [
       "[<matplotlib.lines.Line2D at 0x2617d25f310>,\n",
       " <matplotlib.lines.Line2D at 0x2617d25f340>,\n",
       " <matplotlib.lines.Line2D at 0x2617d25f3d0>,\n",
       " <matplotlib.lines.Line2D at 0x2617d25f4c0>,\n",
       " <matplotlib.lines.Line2D at 0x2617d25f580>,\n",
       " <matplotlib.lines.Line2D at 0x2617d25f640>,\n",
       " <matplotlib.lines.Line2D at 0x2617d25f700>,\n",
       " <matplotlib.lines.Line2D at 0x2617d25f7c0>,\n",
       " <matplotlib.lines.Line2D at 0x2617d25f880>,\n",
       " <matplotlib.lines.Line2D at 0x2617d25f940>]"
      ]
     },
     "execution_count": 7,
     "metadata": {},
     "output_type": "execute_result"
    },
    {
     "data": {
      "image/png": "[encoded data removed]",
      "text/plain": [
       "<Figure size 432x288 with 1 Axes>"
      ]
     },
     "metadata": {
      "needs_background": "light"
     },
     "output_type": "display_data"
    }
   ],
   "source": [
    "#x = np.array([0, 1, 2, 3, 4]);\n",
    "x = np.arange(0, 10, 1);\n",
    "#y = np.array([0, 1, 2, 3, 4]);\n",
    "y = np.arange(0, 5, 1);\n",
    "\n",
    "xx, yy = np.meshgrid(x, y)\n",
    "\n",
    "plt.plot(xx, yy, marker='.', color='k', linestyle='none')"
   ]
  },
  {
   "cell_type": "code",
   "execution_count": 17,
   "metadata": {},
   "outputs": [
    {
     "data": {
      "text/plain": [
       "<matplotlib.collections.PathCollection at 0x253fabe0828>"
      ]
     },
     "execution_count": 17,
     "metadata": {},
     "output_type": "execute_result"
    },
    {
     "data": {
      "image/png": "[encoded data removed]",
      "text/plain": [
       "<Figure size 432x288 with 1 Axes>"
      ]
     },
     "metadata": {
      "needs_background": "light"
     },
     "output_type": "display_data"
    }
   ],
   "source": [
    "yy, xx = np.mgrid[0:5, 0:5]\n",
    "plt.figure()\n",
    "plt.title('mgrid (dense meshgrid)')\n",
    "plt.grid()\n",
    "plt.xticks(xx[0])\n",
    "plt.yticks(yy[:, 0])\n",
    "plt.scatter(xx, yy, color=\"red\", marker=\"x\")"
   ]
  },
  {
   "cell_type": "code",
   "execution_count": null,
   "metadata": {},
   "outputs": [],
   "source": []
  }
 ],
 "metadata": {
  "kernelspec": {
   "display_name": "Python 3",
   "language": "python",
   "name": "python3"
  },
  "language_info": {
   "codemirror_mode": {
    "name": "ipython",
    "version": 3
   },
   "file_extension": ".py",
   "mimetype": "text/x-python",
   "name": "python",
   "nbconvert_exporter": "python",
   "pygments_lexer": "ipython3",
   "version": "3.8.3"
  }
 },
 "nbformat": 4,
 "nbformat_minor": 2
}
