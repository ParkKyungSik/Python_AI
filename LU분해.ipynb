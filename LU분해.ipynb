{
 "cells": [
  {
   "cell_type": "code",
   "execution_count": 7,
   "metadata": {},
   "outputs": [
    {
     "name": "stdout",
     "output_type": "stream",
     "text": [
      "[ 5.  3. -2.]\n"
     ]
    }
   ],
   "source": [
    "import numpy as np\n",
    "def forward_sub(L, b):\n",
    "    y = []\n",
    "    for i in range(len(b)):\n",
    "        y.append(b[i])\n",
    "        for j in range(i):\n",
    "            y[i]=y[i]-(L[i, j]*y[j])\n",
    "        y[i] = y[i]/L[i, i]\n",
    "    return y\n",
    "def backward_sub(U, y):\n",
    "    x = np.zeros_like(y)\n",
    "    for i in range(len(x), 0, -1):\n",
    "        x[i-1] = (y[i-1] - np.dot(U[i-1, i:], x[i:])) / U[i-1, i-1]\n",
    "    return x\n",
    "def lu_factor(A):\n",
    "    #LU decompostion using Doolittles method\n",
    "    L = np.zeros_like(A)\n",
    "    U = np.zeros_like(A)\n",
    "    N = np.size(A,0)\n",
    "    for k in range(N):\n",
    "        L[k, k] = 1\n",
    "        U[k, k] = (A[k, k] - np.dot(L[k, :k], U[:k, k])) / L[k, k]\n",
    "        for j in range(k+1, N):\n",
    "            U[k, j] = (A[k, j] - np.dot(L[k, :k], U[:k, j])) / L[k, k]\n",
    "        for i in range(k+1, N):\n",
    "            L[i, k] = (A[i, k] - np.dot(L[i, :k], U[:k, k])) / U[k, k]\n",
    "    return (L, U)\n",
    "def lu_solve(L, U, b):\n",
    "    # Step 1: Solve Uy = b using forward substitution\n",
    "    # Step 2: Solve Lx = y using backward substitution\n",
    "    y = forward_sub(L,b)\n",
    "    x = backward_sub(U,y)\n",
    "    return x\n",
    "def linear_solve(A, b):\n",
    "    # ...\n",
    "    L, U = lu_factor(A)\n",
    "    x = lu_solve(L,U,b)\n",
    "    return x\n",
    "b = [6,-4,27]\n",
    "A = np.matrix([[1.,1,1],\n",
    "               [0,2,5],\n",
    "               [2,5,-1]])\n",
    "print(linear_solve(A,b))"
   ]
  },
  {
   "cell_type": "code",
   "execution_count": null,
   "metadata": {},
   "outputs": [],
   "source": []
  }
 ],
 "metadata": {
  "kernelspec": {
   "display_name": "Python 3",
   "language": "python",
   "name": "python3"
  },
  "language_info": {
   "codemirror_mode": {
    "name": "ipython",
    "version": 3
   },
   "file_extension": ".py",
   "mimetype": "text/x-python",
   "name": "python",
   "nbconvert_exporter": "python",
   "pygments_lexer": "ipython3",
   "version": "3.8.3"
  }
 },
 "nbformat": 4,
 "nbformat_minor": 4
}
