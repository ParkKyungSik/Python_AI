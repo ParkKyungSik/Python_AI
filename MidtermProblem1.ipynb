{
 "cells": [
  {
   "cell_type": "code",
   "execution_count": 2,
   "metadata": {},
   "outputs": [
    {
     "name": "stdout",
     "output_type": "stream",
     "text": [
      "[[2. 0. 0.]\n",
      " [0. 2. 0.]\n",
      " [0. 0. 1.]]\n"
     ]
    }
   ],
   "source": [
    "import numpy as np\n",
    "\n",
    "A=np.array([[0,0,-2],[1,2,1],[1,0,3]])\n",
    "P=np.array([[-1,0,-2],[0,1,1],[1,0,1]])\n",
    "invP = np.linalg.inv(P)\n",
    "GamaM = invP.dot(A.dot(P))\n",
    "print(GamaM)\n",
    "\n",
    "#P행렬의 첫번째 열벡터는 고유값 2에 대한 고유벡터이다. 두번째 열벡터는 고유값 2에 대한 고유벡터이다. \n",
    "#P행렬의 세번째 열벡터는 고유값 1에 대한 고유벡터이다. 대각행렬 첫번째 대각선 성분의 값 2는 P행렬의\n",
    "#첫번째 열벡터에 대한 고유값이다. 비슷하게 대각행렬 두번째 대각선 성분의 값 2는 P행렬의 두번째 \n",
    "#열벡터에 대한 고유값이다. 마지작으로 대각행렬 세번째 대각선 성분의 값 1은 P행렬의 세번째 열벡터에\n",
    "#고유값이다. \n"
   ]
  },
  {
   "cell_type": "code",
   "execution_count": null,
   "metadata": {},
   "outputs": [],
   "source": []
  }
 ],
 "metadata": {
  "kernelspec": {
   "display_name": "Python 3",
   "language": "python",
   "name": "python3"
  },
  "language_info": {
   "codemirror_mode": {
    "name": "ipython",
    "version": 3
   },
   "file_extension": ".py",
   "mimetype": "text/x-python",
   "name": "python",
   "nbconvert_exporter": "python",
   "pygments_lexer": "ipython3",
   "version": "3.7.3"
  }
 },
 "nbformat": 4,
 "nbformat_minor": 2
}
